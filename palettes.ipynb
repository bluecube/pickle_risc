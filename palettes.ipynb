{
 "cells": [
  {
   "cell_type": "code",
   "execution_count": 1,
   "id": "902b9656",
   "metadata": {},
   "outputs": [],
   "source": [
    "import PIL.Image\n",
    "import PIL.ImageDraw"
   ]
  },
  {
   "cell_type": "code",
   "execution_count": 2,
   "id": "7927c595",
   "metadata": {},
   "outputs": [],
   "source": [
    "def create_palette(palette_fun, color_count):\n",
    "    return list(map(palette_fun, range(color_count)))\n",
    "\n",
    "def create_swatch(palette):\n",
    "    size = 32\n",
    "    w = size * len(palette)\n",
    "    h = size\n",
    "    \n",
    "    img = PIL.Image.new(\"RGB\", (w, h))\n",
    "    draw = PIL.ImageDraw.Draw(img)\n",
    "    \n",
    "    for i, rgb in enumerate(palette):\n",
    "        draw.rectangle([i * size, 0, (i + 1) * size, h], fill=rgb)\n",
    "        \n",
    "    return img"
   ]
  },
  {
   "cell_type": "code",
   "execution_count": 12,
   "id": "8aade355",
   "metadata": {},
   "outputs": [
    {
     "data": {
      "image/png": "[encoded data removed]",
      "text/plain": [
       "<PIL.Image.Image image mode=RGB size=512x32 at 0x7FDAD17442B0>"
      ]
     },
     "execution_count": 12,
     "metadata": {},
     "output_type": "execute_result"
    }
   ],
   "source": [
    "def zxspectrum_reordered(num):\n",
    "    \"\"\" Based on https://en.wikipedia.org/wiki/ZX_Spectrum_graphic_modes, but switched g and r channel to be better\n",
    "    comparable to CGA \"\"\"\n",
    "    b = num & 0x1\n",
    "    g = (num >> 1) & 0x1\n",
    "    r = (num >> 2) & 0x1\n",
    "    i = (num >> 3) & 0x1\n",
    "    \n",
    "    scale = 0xcc + 0x33 * i\n",
    "    \n",
    "    return (r * scale, g * scale, b * scale)\n",
    "create_swatch(create_palette(zxspectrum_reordered, 16))"
   ]
  },
  {
   "cell_type": "code",
   "execution_count": 13,
   "id": "3808e958",
   "metadata": {},
   "outputs": [
    {
     "data": {
      "image/png": "[encoded data removed]",
      "text/plain": [
       "<PIL.Image.Image image mode=RGB size=512x32 at 0x7FDAD1B9D100>"
      ]
     },
     "execution_count": 13,
     "metadata": {},
     "output_type": "execute_result"
    }
   ],
   "source": [
    "def cga_unpatched(num):\n",
    "    \"\"\" Based on https://en.wikipedia.org/wiki/Color_Graphics_Adapter#With_an_RGBI_monitor,\n",
    "    but without special treatment for color 6. \"\"\"\n",
    "    b = num & 0x1\n",
    "    g = (num >> 1) & 0x1\n",
    "    r = (num >> 2) & 0x1\n",
    "    i = (num >> 3) & 0x1\n",
    "    \n",
    "    scale = 2 * 255 / 3\n",
    "    offset = i * 255 / 3\n",
    "    \n",
    "    return tuple(round(x * scale + offset) for x in (r, g, b))\n",
    "create_swatch(create_palette(cga_unpatched, 16))"
   ]
  },
  {
   "cell_type": "code",
   "execution_count": 14,
   "id": "95c02237",
   "metadata": {},
   "outputs": [
    {
     "data": {
      "image/png": "[encoded data removed]",
      "text/plain": [
       "<PIL.Image.Image image mode=RGB size=512x32 at 0x7FDAD1744F70>"
      ]
     },
     "execution_count": 14,
     "metadata": {},
     "output_type": "execute_result"
    }
   ],
   "source": [
    "def cga(num):\n",
    "    \"\"\" Based on https://en.wikipedia.org/wiki/Color_Graphics_Adapter#With_an_RGBI_monitor \"\"\"\n",
    "    if num == 6:\n",
    "        return (0xaa, 0x55, 0x00)\n",
    "    b = num & 0x1\n",
    "    g = (num >> 1) & 0x1\n",
    "    r = (num >> 2) & 0x1\n",
    "    i = (num >> 3) & 0x1\n",
    "    \n",
    "    scale = 2 * 255 / 3\n",
    "    offset = i * 255 / 3\n",
    "    \n",
    "    return tuple(round(x * scale + offset) for x in (r, g, b))\n",
    "create_swatch(create_palette(cga, 16))"
   ]
  },
  {
   "cell_type": "code",
   "execution_count": 15,
   "id": "0b7ed0e4",
   "metadata": {},
   "outputs": [
    {
     "data": {
      "image/png": "[encoded data removed]",
      "text/plain": [
       "<PIL.Image.Image image mode=RGB size=512x32 at 0x7FDAD1B9D3D0>"
      ]
     },
     "execution_count": 15,
     "metadata": {},
     "output_type": "execute_result"
    }
   ],
   "source": [
    "def rgb121(num):\n",
    "    \"\"\" 16 color palette with 2 bits for green channel\"\"\"\n",
    "    b = num & 0x1\n",
    "    g = (num >> 1) & 0x3\n",
    "    r = (num >> 3) & 0x1\n",
    "    \n",
    "    return (r * 255, round(g * 255 / 3), b * 255)\n",
    "create_swatch(create_palette(rgb121, 16))"
   ]
  },
  {
   "cell_type": "code",
   "execution_count": null,
   "id": "7bdad6f0",
   "metadata": {},
   "outputs": [],
   "source": []
  }
 ],
 "metadata": {
  "kernelspec": {
   "display_name": "Python 3 (ipykernel)",
   "language": "python",
   "name": "python3"
  },
  "language_info": {
   "codemirror_mode": {
    "name": "ipython",
    "version": 3
   },
   "file_extension": ".py",
   "mimetype": "text/x-python",
   "name": "python",
   "nbconvert_exporter": "python",
   "pygments_lexer": "ipython3",
   "version": "3.9.9"
  }
 },
 "nbformat": 4,
 "nbformat_minor": 5
}
